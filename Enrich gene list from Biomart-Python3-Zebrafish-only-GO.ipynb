{
 "cells": [
  {
   "cell_type": "markdown",
   "metadata": {
    "collapsed": true
   },
   "source": [
    "# Getting gene ontology information from gene list\n",
    "Takes a txt file saved from the Klein RNAseq data website www.tinyurl.com/scZfish2018 (remove first two rows), and gets info from Biomart (full name, GO terms, human orthologs).\n",
    "Saves an enriched list, and a list of genes that were not found in Biomart (the Klein names are ZV10, biomart is using ZV11).\n",
    "Provides gene ontology information."
   ]
  },
  {
   "cell_type": "code",
   "execution_count": 1,
   "metadata": {},
   "outputs": [],
   "source": [
    "#Input the path to the folder containing the file\n",
    "path='C:/Users/Florence/OneDrive - King\\'s College London/Single cell RNAseq/Wagner dataset/Data/Forebrain1/ET_ant_vs_tel.txt'\n",
    "\n",
    "#Input the path to the file containing z10 to z11 conversion names\n",
    "path2='C:/Users/Florence/OneDrive - King\\'s College London/Single cell RNAseq/Wagner dataset/Code/z10-z11.csv'"
   ]
  },
  {
   "cell_type": "code",
   "execution_count": 2,
   "metadata": {},
   "outputs": [],
   "source": [
    "from biomart import BiomartServer\n",
    "import pandas as pd\n",
    "import os\n",
    "from matplotlib import pyplot as plt\n",
    "from goatools import obo_parser"
   ]
  },
  {
   "cell_type": "markdown",
   "metadata": {},
   "source": [
    "Read the gene list from the txt file. Text file downloaded from the Klein website. Remove the first two lines, to keep only the header and gene list.\n",
    "Only the first 500 rows are taken, otherwise biomart may throw an error, saying the query is too long."
   ]
  },
  {
   "cell_type": "code",
   "execution_count": 3,
   "metadata": {},
   "outputs": [
    {
     "data": {
      "text/html": [
       "<div>\n",
       "<style scoped>\n",
       "    .dataframe tbody tr th:only-of-type {\n",
       "        vertical-align: middle;\n",
       "    }\n",
       "\n",
       "    .dataframe tbody tr th {\n",
       "        vertical-align: top;\n",
       "    }\n",
       "\n",
       "    .dataframe thead th {\n",
       "        text-align: right;\n",
       "    }\n",
       "</style>\n",
       "<table border=\"1\" class=\"dataframe\">\n",
       "  <thead>\n",
       "    <tr style=\"text-align: right;\">\n",
       "      <th></th>\n",
       "      <th>external_gene_name</th>\n",
       "      <th>Z_score</th>\n",
       "      <th>external_gene_name_lower</th>\n",
       "    </tr>\n",
       "  </thead>\n",
       "  <tbody>\n",
       "    <tr>\n",
       "      <th>0</th>\n",
       "      <td>rx3</td>\n",
       "      <td>1.037</td>\n",
       "      <td>rx3</td>\n",
       "    </tr>\n",
       "    <tr>\n",
       "      <th>1</th>\n",
       "      <td>cdh2</td>\n",
       "      <td>1.018</td>\n",
       "      <td>cdh2</td>\n",
       "    </tr>\n",
       "    <tr>\n",
       "      <th>2</th>\n",
       "      <td>nr2f5</td>\n",
       "      <td>0.960</td>\n",
       "      <td>nr2f5</td>\n",
       "    </tr>\n",
       "    <tr>\n",
       "      <th>3</th>\n",
       "      <td>clic4</td>\n",
       "      <td>0.923</td>\n",
       "      <td>clic4</td>\n",
       "    </tr>\n",
       "    <tr>\n",
       "      <th>4</th>\n",
       "      <td>flrt3</td>\n",
       "      <td>0.919</td>\n",
       "      <td>flrt3</td>\n",
       "    </tr>\n",
       "  </tbody>\n",
       "</table>\n",
       "</div>"
      ],
      "text/plain": [
       "  external_gene_name  Z_score external_gene_name_lower\n",
       "0                rx3    1.037                      rx3\n",
       "1               cdh2    1.018                     cdh2\n",
       "2              nr2f5    0.960                    nr2f5\n",
       "3              clic4    0.923                    clic4\n",
       "4              flrt3    0.919                    flrt3"
      ]
     },
     "execution_count": 3,
     "metadata": {},
     "output_type": "execute_result"
    }
   ],
   "source": [
    "geneset=pd.read_csv(path, sep='\\t', names=['external_gene_name','Z_score'])\n",
    "geneset['external_gene_name_lower'] = geneset['external_gene_name'].str.lower()\n",
    "geneset.head()"
   ]
  },
  {
   "cell_type": "markdown",
   "metadata": {},
   "source": [
    "Load the z10 to z11 file, and use to replace z10 names by z11 names (the Klein names are ZV10, biomart is using ZV11)."
   ]
  },
  {
   "cell_type": "code",
   "execution_count": 4,
   "metadata": {},
   "outputs": [],
   "source": [
    "dico=pd.read_csv(path2, sep=';')\n",
    "geneset=geneset.replace(dico['z10'].tolist(),dico['z11'].tolist())"
   ]
  },
  {
   "cell_type": "code",
   "execution_count": 5,
   "metadata": {},
   "outputs": [],
   "source": [
    "server = BiomartServer( \"http://www.ensembl.org/biomart\" )\n",
    "server.verbose = False\n",
    "drerio=server.datasets['drerio_gene_ensembl']"
   ]
  },
  {
   "cell_type": "markdown",
   "metadata": {},
   "source": [
    "Get gene name, gene description, go terms and ZFIN ID"
   ]
  },
  {
   "cell_type": "code",
   "execution_count": 6,
   "metadata": {},
   "outputs": [],
   "source": [
    "gene_list=geneset[:500]['external_gene_name'].tolist()\n",
    "response = drerio.search({\n",
    "  'filters': {\n",
    "      'external_gene_name': gene_list\n",
    "  },\n",
    "  'attributes': [\n",
    "      'ensembl_gene_id', 'external_gene_name', 'description','name_1006','go_id','zfin_id_id'\n",
    "  ]\n",
    "})\n",
    "\n",
    "\n",
    "with open('csvfile.csv','w') as file:\n",
    "    line='ensembl_gene_id\\texternal_gene_name\\tdescription\\tname_1006\\tgo_id\\tzfin_id_id'\n",
    "    file.write(line)\n",
    "    file.write('\\n')\n",
    "    for line in response.iter_lines():\n",
    "        line = line.decode('utf-8')\n",
    "        file.write(line)\n",
    "        file.write('\\n')\n",
    "\n",
    "df=pd.read_csv('csvfile.csv', sep='\\t')\n",
    "os.remove('csvfile.csv')"
   ]
  },
  {
   "cell_type": "markdown",
   "metadata": {},
   "source": [
    "Identify genes that were discarded to manually add them to the z10 -> z11 table, and re-run 3 cells above"
   ]
  },
  {
   "cell_type": "code",
   "execution_count": 7,
   "metadata": {},
   "outputs": [],
   "source": [
    "subset=geneset[:500]\n",
    "df['external_gene_name_lower'] = df['external_gene_name'].str.lower()\n",
    "discarded=subset.merge(df, on='external_gene_name_lower', indicator=True, how=\"left\")[lambda x: x._merge=='left_only'].drop('_merge',1)\n",
    "discarded=discarded[['external_gene_name_x', 'Z_score']]\n",
    "discarded.to_excel(os.path.dirname(path)+'/gene_discarded.xls')"
   ]
  },
  {
   "cell_type": "markdown",
   "metadata": {},
   "source": [
    "Remove non necessary columns for further GO analysis"
   ]
  },
  {
   "cell_type": "code",
   "execution_count": 8,
   "metadata": {},
   "outputs": [],
   "source": [
    "df1=df[['external_gene_name', 'go_id']]"
   ]
  },
  {
   "cell_type": "markdown",
   "metadata": {},
   "source": [
    "Gene ontology"
   ]
  },
  {
   "cell_type": "code",
   "execution_count": 9,
   "metadata": {},
   "outputs": [
    {
     "name": "stdout",
     "output_type": "stream",
     "text": [
      "go-basic.obo: fmt(1.2) rel(2020-03-23) 47,232 GO Terms\n"
     ]
    }
   ],
   "source": [
    "go = obo_parser.GODag(\"go-basic.obo\")"
   ]
  },
  {
   "cell_type": "markdown",
   "metadata": {},
   "source": [
    "Gene ontology terms are classified in three branches or \"spaces\": molecular function, cellular component and biological process. They are classified in a hierarchical manner, with a certain level."
   ]
  },
  {
   "cell_type": "code",
   "execution_count": 10,
   "metadata": {},
   "outputs": [
    {
     "name": "stderr",
     "output_type": "stream",
     "text": [
      "C:\\Users\\Florence\\Anaconda3\\lib\\site-packages\\ipykernel_launcher.py:7: SettingWithCopyWarning: \n",
      "A value is trying to be set on a copy of a slice from a DataFrame\n",
      "\n",
      "See the caveats in the documentation: http://pandas.pydata.org/pandas-docs/stable/indexing.html#indexing-view-versus-copy\n",
      "  import sys\n",
      "C:\\Users\\Florence\\Anaconda3\\lib\\site-packages\\ipykernel_launcher.py:8: SettingWithCopyWarning: \n",
      "A value is trying to be set on a copy of a slice from a DataFrame\n",
      "\n",
      "See the caveats in the documentation: http://pandas.pydata.org/pandas-docs/stable/indexing.html#indexing-view-versus-copy\n",
      "  \n"
     ]
    },
    {
     "data": {
      "text/html": [
       "<div>\n",
       "<style scoped>\n",
       "    .dataframe tbody tr th:only-of-type {\n",
       "        vertical-align: middle;\n",
       "    }\n",
       "\n",
       "    .dataframe tbody tr th {\n",
       "        vertical-align: top;\n",
       "    }\n",
       "\n",
       "    .dataframe thead th {\n",
       "        text-align: right;\n",
       "    }\n",
       "</style>\n",
       "<table border=\"1\" class=\"dataframe\">\n",
       "  <thead>\n",
       "    <tr style=\"text-align: right;\">\n",
       "      <th></th>\n",
       "      <th>index</th>\n",
       "      <th>external_gene_name</th>\n",
       "      <th>go_id</th>\n",
       "      <th>go_level</th>\n",
       "      <th>name_space</th>\n",
       "    </tr>\n",
       "  </thead>\n",
       "  <tbody>\n",
       "    <tr>\n",
       "      <th>0</th>\n",
       "      <td>0</td>\n",
       "      <td>ankhd1</td>\n",
       "      <td>GO:0005737</td>\n",
       "      <td>2</td>\n",
       "      <td>cellular_component</td>\n",
       "    </tr>\n",
       "    <tr>\n",
       "      <th>1</th>\n",
       "      <td>1</td>\n",
       "      <td>ankhd1</td>\n",
       "      <td>GO:0003676</td>\n",
       "      <td>3</td>\n",
       "      <td>molecular_function</td>\n",
       "    </tr>\n",
       "    <tr>\n",
       "      <th>2</th>\n",
       "      <td>2</td>\n",
       "      <td>ankhd1</td>\n",
       "      <td>GO:0003723</td>\n",
       "      <td>4</td>\n",
       "      <td>molecular_function</td>\n",
       "    </tr>\n",
       "    <tr>\n",
       "      <th>3</th>\n",
       "      <td>3</td>\n",
       "      <td>ankhd1</td>\n",
       "      <td>GO:0060047</td>\n",
       "      <td>5</td>\n",
       "      <td>biological_process</td>\n",
       "    </tr>\n",
       "    <tr>\n",
       "      <th>4</th>\n",
       "      <td>4</td>\n",
       "      <td>ankhd1</td>\n",
       "      <td>GO:0045087</td>\n",
       "      <td>3</td>\n",
       "      <td>biological_process</td>\n",
       "    </tr>\n",
       "  </tbody>\n",
       "</table>\n",
       "</div>"
      ],
      "text/plain": [
       "   index external_gene_name       go_id go_level          name_space\n",
       "0      0             ankhd1  GO:0005737        2  cellular_component\n",
       "1      1             ankhd1  GO:0003676        3  molecular_function\n",
       "2      2             ankhd1  GO:0003723        4  molecular_function\n",
       "3      3             ankhd1  GO:0060047        5  biological_process\n",
       "4      4             ankhd1  GO:0045087        3  biological_process"
      ]
     },
     "execution_count": 10,
     "metadata": {},
     "output_type": "execute_result"
    }
   ],
   "source": [
    "df1=df1.dropna()\n",
    "df1=df1.reset_index()\n",
    "df1['go_level']=df1['go_id']\n",
    "df1['name_space']=df1['go_id']\n",
    "\n",
    "for i in df1.index:\n",
    "    df1['go_level'][i]=go[df1['go_id'][i]].level\n",
    "    df1['name_space'][i]=go[df1['go_id'][i]].namespace\n",
    "    \n",
    "df1.head()"
   ]
  },
  {
   "cell_type": "code",
   "execution_count": 11,
   "metadata": {},
   "outputs": [],
   "source": [
    "df_mol=df1[df1['name_space']=='molecular_function']\n",
    "df_cell=df1[df1['name_space']=='cellular_component']\n",
    "df_bio=df1[df1['name_space']=='biological_process']"
   ]
  },
  {
   "cell_type": "code",
   "execution_count": 12,
   "metadata": {},
   "outputs": [],
   "source": [
    "def level_go(go_id,lev):\n",
    "    '''returs go_id parents of level lev'''\n",
    "    go_term=go[go_id]\n",
    "    GO=list()\n",
    "    levelgo=list()\n",
    "    parents=go_term.get_all_parents()\n",
    "    \n",
    "    for i in parents:\n",
    "        GO.append(i)\n",
    "        levelgo.append(go[i].level)\n",
    "        \n",
    "    parents_df=pd.DataFrame()\n",
    "    parents_df['id']=GO\n",
    "    parents_df['level']=levelgo\n",
    "\n",
    "    #for each set of GO, extracts those of lev level\n",
    "    dleveled=parents_df[parents_df['level']==lev]\n",
    "    GO_leveled=dleveled['id']\n",
    "    return list(GO_leveled)"
   ]
  },
  {
   "cell_type": "code",
   "execution_count": 13,
   "metadata": {},
   "outputs": [],
   "source": [
    "def gene_level_go (df,gene,lev=2):\n",
    "    '''gets all go id of level lev or below for a single gene'''\n",
    "    d_gene=df[df['external_gene_name']==gene]\n",
    "    go_gene_leveled=[]\n",
    "    for i in d_gene.index:\n",
    "        if d_gene['go_level'][i]>lev:\n",
    "            golist=level_go(d_gene['go_id'][i],lev)\n",
    "        else:\n",
    "            golist=[d_gene['go_id'][i]]\n",
    "        go_gene_leveled+=golist\n",
    "        \n",
    "    go_gene_leveled=list(set(go_gene_leveled))\n",
    "    \n",
    "    return go_gene_leveled\n",
    "\n",
    "\n",
    "def gene_level_go_groupby(df, lev):\n",
    "    '''combine with groupy to get all go id of level lev or below for all genes'''\n",
    "    go_gene_leveled=[]\n",
    "    for i in df.index:\n",
    "        if df['go_level'][i]>lev:\n",
    "            golist=level_go(df['go_id'][i],lev)\n",
    "        else:\n",
    "            golist=[df['go_id'][i]]\n",
    "        go_gene_leveled+=golist\n",
    "        \n",
    "    go_gene_leveled=list(set(go_gene_leveled))\n",
    "    \n",
    "    return go_gene_leveled\n",
    "\n",
    "\n",
    "def gene_level_go_V3(d_gene, lev = 2):\n",
    "    '''combine with groupy to get all go id of level lev or below for all genes'''\n",
    "    go_gene_leveled=[]\n",
    "    for i in d_gene.index:\n",
    "        if d_gene['go_level'][i]>2:\n",
    "            golist=level_go(d_gene['go_id'][i],lev)\n",
    "        else:\n",
    "            golist=[d_gene['go_id'][i]]\n",
    "        go_gene_leveled+=golist\n",
    "    go_gene_leveled=list(set(go_gene_leveled))\n",
    "    return go_gene_leveled"
   ]
  },
  {
   "cell_type": "code",
   "execution_count": 14,
   "metadata": {},
   "outputs": [],
   "source": [
    "#je veux level 0 pour tous sauf cytoskeleton organisation:'GO:0030865' et extracellular matrix organization:'GO:0030198'\n",
    "\n",
    "#ramener tout le monde à level 5\n",
    "\n",
    "#def gene_level_go_groupby(df, lev):\n",
    "    #'''combine with groupy to get all go id of level lev or below for all genes'''\n",
    "    #go_gene_leveled=[]\n",
    "    #for i in df.index:\n",
    "        #if df['go_level'][i]>lev:\n",
    "            #golist=level_go(df['go_id'][i],lev)\n",
    "       # else:\n",
    "            #golist=[df['go_id'][i]]\n",
    "        #go_gene_leveled+=golist\n",
    "        \n",
    "   # go_gene_leveled=list(set(go_gene_leveled))\n",
    "    \n",
    "    #return go_gene_leveled\n",
    "\n",
    "\n",
    "#s=df_bio.groupby('external_gene_name').apply(gene_level_go_groupby_BBSRC,5)\n",
    "#df2_level5=pd.DataFrame({'external_gene_name':s.index, 'GO_id':s.values})\n",
    "#df2_level5.head()"
   ]
  },
  {
   "cell_type": "code",
   "execution_count": 15,
   "metadata": {},
   "outputs": [],
   "source": [
    "#on sort\n",
    "\n",
    "#mylist = ['GO:0007010', 'GO:0030198','GO:0007015','GO:0030334','GO:0032956']\n",
    "#pattern = '|'.join(mylist)\n",
    "#pattern\n",
    "#exception=df2_level5.GO_id.astype('str').str.contains(pattern)\n",
    "#df2_ECM_cyto=df2_level5[exception]\n",
    "#df2_ECM_cyto['GO_id']\n",
    "#df2_les_autres=df2_level5[~exception]\n",
    "#df2_ECM_cyto.head()"
   ]
  },
  {
   "cell_type": "code",
   "execution_count": 16,
   "metadata": {},
   "outputs": [
    {
     "data": {
      "text/html": [
       "<div>\n",
       "<style scoped>\n",
       "    .dataframe tbody tr th:only-of-type {\n",
       "        vertical-align: middle;\n",
       "    }\n",
       "\n",
       "    .dataframe tbody tr th {\n",
       "        vertical-align: top;\n",
       "    }\n",
       "\n",
       "    .dataframe thead th {\n",
       "        text-align: right;\n",
       "    }\n",
       "</style>\n",
       "<table border=\"1\" class=\"dataframe\">\n",
       "  <thead>\n",
       "    <tr style=\"text-align: right;\">\n",
       "      <th></th>\n",
       "      <th>external_gene_name</th>\n",
       "      <th>GO_id</th>\n",
       "    </tr>\n",
       "  </thead>\n",
       "  <tbody>\n",
       "    <tr>\n",
       "      <th>0</th>\n",
       "      <td>CAMSAP3</td>\n",
       "      <td>[GO:0005488, GO:0065007, GO:0009987, GO:0110165]</td>\n",
       "    </tr>\n",
       "    <tr>\n",
       "      <th>1</th>\n",
       "      <td>DXO</td>\n",
       "      <td>[GO:0008152, GO:0110165, GO:0009987, GO:006500...</td>\n",
       "    </tr>\n",
       "    <tr>\n",
       "      <th>2</th>\n",
       "      <td>FAM53C</td>\n",
       "      <td>[GO:0051179, GO:0009987, GO:0110165]</td>\n",
       "    </tr>\n",
       "    <tr>\n",
       "      <th>3</th>\n",
       "      <td>FOXK2</td>\n",
       "      <td>[GO:0005488, GO:0065007, GO:0140110, GO:0110165]</td>\n",
       "    </tr>\n",
       "    <tr>\n",
       "      <th>4</th>\n",
       "      <td>MYG1</td>\n",
       "      <td>[GO:0003674, GO:0110165, GO:0008150]</td>\n",
       "    </tr>\n",
       "  </tbody>\n",
       "</table>\n",
       "</div>"
      ],
      "text/plain": [
       "  external_gene_name                                              GO_id\n",
       "0            CAMSAP3   [GO:0005488, GO:0065007, GO:0009987, GO:0110165]\n",
       "1                DXO  [GO:0008152, GO:0110165, GO:0009987, GO:006500...\n",
       "2             FAM53C               [GO:0051179, GO:0009987, GO:0110165]\n",
       "3              FOXK2   [GO:0005488, GO:0065007, GO:0140110, GO:0110165]\n",
       "4               MYG1               [GO:0003674, GO:0110165, GO:0008150]"
      ]
     },
     "execution_count": 16,
     "metadata": {},
     "output_type": "execute_result"
    }
   ],
   "source": [
    "# on applique avec level 1\n",
    "\n",
    "s=df1.groupby('external_gene_name').apply(gene_level_go_groupby,1)\n",
    "df2=pd.DataFrame({'external_gene_name':s.index, 'GO_id':s.values})\n",
    "df2.head()"
   ]
  },
  {
   "cell_type": "code",
   "execution_count": 17,
   "metadata": {},
   "outputs": [],
   "source": [
    "#on rajoute les termes level5 a level2\n",
    "#df3=df2_level1\n",
    "#for i in df2_ECM_cyto.index:\n",
    "    #df3['GO_id'][df3['external_gene_name']==df2_ECM_cyto['external_gene_name'][i]]+=df2_ECM_cyto['GO_id'][i]"
   ]
  },
  {
   "cell_type": "markdown",
   "metadata": {},
   "source": [
    "On rajoute les noms des GO"
   ]
  },
  {
   "cell_type": "code",
   "execution_count": 18,
   "metadata": {},
   "outputs": [
    {
     "data": {
      "text/html": [
       "<div>\n",
       "<style scoped>\n",
       "    .dataframe tbody tr th:only-of-type {\n",
       "        vertical-align: middle;\n",
       "    }\n",
       "\n",
       "    .dataframe tbody tr th {\n",
       "        vertical-align: top;\n",
       "    }\n",
       "\n",
       "    .dataframe thead th {\n",
       "        text-align: right;\n",
       "    }\n",
       "</style>\n",
       "<table border=\"1\" class=\"dataframe\">\n",
       "  <thead>\n",
       "    <tr style=\"text-align: right;\">\n",
       "      <th></th>\n",
       "      <th>external_gene_name</th>\n",
       "      <th>GO_id</th>\n",
       "      <th>GO_name</th>\n",
       "    </tr>\n",
       "  </thead>\n",
       "  <tbody>\n",
       "    <tr>\n",
       "      <th>0</th>\n",
       "      <td>CAMSAP3</td>\n",
       "      <td>[GO:0005488, GO:0065007, GO:0009987, GO:0110165]</td>\n",
       "      <td>[binding, biological regulation, cellular proc...</td>\n",
       "    </tr>\n",
       "    <tr>\n",
       "      <th>1</th>\n",
       "      <td>DXO</td>\n",
       "      <td>[GO:0008152, GO:0110165, GO:0009987, GO:006500...</td>\n",
       "      <td>[metabolic process, cellular anatomical entity...</td>\n",
       "    </tr>\n",
       "    <tr>\n",
       "      <th>2</th>\n",
       "      <td>FAM53C</td>\n",
       "      <td>[GO:0051179, GO:0009987, GO:0110165]</td>\n",
       "      <td>[localization, cellular process, cellular anat...</td>\n",
       "    </tr>\n",
       "    <tr>\n",
       "      <th>3</th>\n",
       "      <td>FOXK2</td>\n",
       "      <td>[GO:0005488, GO:0065007, GO:0140110, GO:0110165]</td>\n",
       "      <td>[binding, biological regulation, transcription...</td>\n",
       "    </tr>\n",
       "    <tr>\n",
       "      <th>4</th>\n",
       "      <td>MYG1</td>\n",
       "      <td>[GO:0003674, GO:0110165, GO:0008150]</td>\n",
       "      <td>[molecular_function, cellular anatomical entit...</td>\n",
       "    </tr>\n",
       "  </tbody>\n",
       "</table>\n",
       "</div>"
      ],
      "text/plain": [
       "  external_gene_name                                              GO_id  \\\n",
       "0            CAMSAP3   [GO:0005488, GO:0065007, GO:0009987, GO:0110165]   \n",
       "1                DXO  [GO:0008152, GO:0110165, GO:0009987, GO:006500...   \n",
       "2             FAM53C               [GO:0051179, GO:0009987, GO:0110165]   \n",
       "3              FOXK2   [GO:0005488, GO:0065007, GO:0140110, GO:0110165]   \n",
       "4               MYG1               [GO:0003674, GO:0110165, GO:0008150]   \n",
       "\n",
       "                                             GO_name  \n",
       "0  [binding, biological regulation, cellular proc...  \n",
       "1  [metabolic process, cellular anatomical entity...  \n",
       "2  [localization, cellular process, cellular anat...  \n",
       "3  [binding, biological regulation, transcription...  \n",
       "4  [molecular_function, cellular anatomical entit...  "
      ]
     },
     "execution_count": 18,
     "metadata": {},
     "output_type": "execute_result"
    }
   ],
   "source": [
    "df4=df2\n",
    "df4['GO_name']=df2['GO_id']\n",
    "for i in df2.index:\n",
    "    df4['GO_name'][i]=[]\n",
    "    for j in df2['GO_id'][i]:\n",
    "        df4['GO_name'][i].append(go[j].name)\n",
    "        \n",
    "df4.head()"
   ]
  },
  {
   "cell_type": "markdown",
   "metadata": {},
   "source": [
    "Merge to original gene set, to reinclude scores. Order on score. Save."
   ]
  },
  {
   "cell_type": "code",
   "execution_count": 19,
   "metadata": {},
   "outputs": [
    {
     "data": {
      "text/html": [
       "<div>\n",
       "<style scoped>\n",
       "    .dataframe tbody tr th:only-of-type {\n",
       "        vertical-align: middle;\n",
       "    }\n",
       "\n",
       "    .dataframe tbody tr th {\n",
       "        vertical-align: top;\n",
       "    }\n",
       "\n",
       "    .dataframe thead th {\n",
       "        text-align: right;\n",
       "    }\n",
       "</style>\n",
       "<table border=\"1\" class=\"dataframe\">\n",
       "  <thead>\n",
       "    <tr style=\"text-align: right;\">\n",
       "      <th></th>\n",
       "      <th>external_gene_name</th>\n",
       "      <th>Z_score</th>\n",
       "      <th>GO_name</th>\n",
       "      <th>GO_id</th>\n",
       "    </tr>\n",
       "  </thead>\n",
       "  <tbody>\n",
       "    <tr>\n",
       "      <th>281</th>\n",
       "      <td>rx3</td>\n",
       "      <td>1.037</td>\n",
       "      <td>[cellular anatomical entity, binding, biologic...</td>\n",
       "      <td>[GO:0110165, GO:0005488, GO:0065007, GO:014011...</td>\n",
       "    </tr>\n",
       "    <tr>\n",
       "      <th>38</th>\n",
       "      <td>cdh2</td>\n",
       "      <td>1.018</td>\n",
       "      <td>[cellular anatomical entity, binding, cellular...</td>\n",
       "      <td>[GO:0110165, GO:0005488, GO:0009987, GO:006500...</td>\n",
       "    </tr>\n",
       "    <tr>\n",
       "      <th>206</th>\n",
       "      <td>nr2f5</td>\n",
       "      <td>0.960</td>\n",
       "      <td>[response to stimulus, cellular anatomical ent...</td>\n",
       "      <td>[GO:0050896, GO:0110165, GO:0060089, GO:000548...</td>\n",
       "    </tr>\n",
       "    <tr>\n",
       "      <th>48</th>\n",
       "      <td>clic4</td>\n",
       "      <td>0.923</td>\n",
       "      <td>[cellular anatomical entity, binding, transpor...</td>\n",
       "      <td>[GO:0110165, GO:0005488, GO:0005215, GO:000998...</td>\n",
       "    </tr>\n",
       "    <tr>\n",
       "      <th>101</th>\n",
       "      <td>flrt3</td>\n",
       "      <td>0.919</td>\n",
       "      <td>[binding, cellular anatomical entity]</td>\n",
       "      <td>[GO:0005488, GO:0110165]</td>\n",
       "    </tr>\n",
       "  </tbody>\n",
       "</table>\n",
       "</div>"
      ],
      "text/plain": [
       "    external_gene_name  Z_score  \\\n",
       "281                rx3    1.037   \n",
       "38                cdh2    1.018   \n",
       "206              nr2f5    0.960   \n",
       "48               clic4    0.923   \n",
       "101              flrt3    0.919   \n",
       "\n",
       "                                               GO_name  \\\n",
       "281  [cellular anatomical entity, binding, biologic...   \n",
       "38   [cellular anatomical entity, binding, cellular...   \n",
       "206  [response to stimulus, cellular anatomical ent...   \n",
       "48   [cellular anatomical entity, binding, transpor...   \n",
       "101              [binding, cellular anatomical entity]   \n",
       "\n",
       "                                                 GO_id  \n",
       "281  [GO:0110165, GO:0005488, GO:0065007, GO:014011...  \n",
       "38   [GO:0110165, GO:0005488, GO:0009987, GO:006500...  \n",
       "206  [GO:0050896, GO:0110165, GO:0060089, GO:000548...  \n",
       "48   [GO:0110165, GO:0005488, GO:0005215, GO:000998...  \n",
       "101                           [GO:0005488, GO:0110165]  "
      ]
     },
     "execution_count": 19,
     "metadata": {},
     "output_type": "execute_result"
    }
   ],
   "source": [
    "df4=pd.merge(df4,geneset, on='external_gene_name')\n",
    "\n",
    "df4=df4.sort_values(by=['Z_score'],ascending=False)\n",
    "df4=df4[['external_gene_name','Z_score','GO_name','GO_id']]\n",
    "df4.to_excel(os.path.dirname(path)+'/gene_list.xlsx')\n",
    "df4.head()"
   ]
  },
  {
   "cell_type": "code",
   "execution_count": 20,
   "metadata": {},
   "outputs": [
    {
     "data": {
      "image/png": "[encoded data removed]",
      "text/plain": [
       "<Figure size 432x288 with 1 Axes>"
      ]
     },
     "metadata": {
      "needs_background": "light"
     },
     "output_type": "display_data"
    }
   ],
   "source": [
    "number_transcripts=df4.shape[0]\n",
    "t=str(number_transcripts)+' transcripts'\n",
    "Z_threshold=0.3\n",
    "plt.bar(df4['external_gene_name'],df4['Z_score'])\n",
    "plt.ylabel('Z-score')\n",
    "plt.xlabel('transcripts')\n",
    "plt.xticks([])\n",
    "plt.axhline(y=Z_threshold,linewidth=1, color='r')\n",
    "#plt.xticks(rotation=90)\n",
    "plt.text(200, 0.8, t, fontsize=12)\n",
    "plt.show()"
   ]
  },
  {
   "cell_type": "markdown",
   "metadata": {},
   "source": [
    "Filter on Z_score"
   ]
  },
  {
   "cell_type": "code",
   "execution_count": 21,
   "metadata": {},
   "outputs": [
    {
     "data": {
      "image/png": "[encoded data removed]",
      "text/plain": [
       "<Figure size 432x288 with 1 Axes>"
      ]
     },
     "metadata": {
      "needs_background": "light"
     },
     "output_type": "display_data"
    }
   ],
   "source": [
    "df5=df4[df4['Z_score']>Z_threshold]\n",
    "selected=df5.shape[0]\n",
    "t1=str(selected)+' enriched transcripts'\n",
    "#plt.figure(figsize=[20, 4.8])\n",
    "plt.bar(df5['external_gene_name'],df5['Z_score'])\n",
    "plt.ylabel('Z-score')\n",
    "plt.xlabel('transcripts')\n",
    "plt.xticks([])\n",
    "plt.xticks(rotation=90)\n",
    "plt.text(50, 0.8, t1, fontsize=12)\n",
    "plt.show()"
   ]
  },
  {
   "cell_type": "code",
   "execution_count": 22,
   "metadata": {},
   "outputs": [
    {
     "data": {
      "image/png": "[encoded data removed]",
      "text/plain": [
       "<Figure size 2880x720 with 1 Axes>"
      ]
     },
     "metadata": {},
     "output_type": "display_data"
    },
    {
     "name": "stdout",
     "output_type": "stream",
     "text": [
      "{'cellular anatomical entity': 121, 'binding': 117, 'biological regulation': 71, 'transcription regulator activity': 16, 'developmental process': 53, 'multicellular organismal process': 20, 'cellular process': 113, 'biological adhesion': 3, 'response to stimulus': 16, 'molecular transducer activity': 7, 'transporter activity': 7, 'localization': 21, 'protein-containing complex': 44, 'immune system process': 4, 'locomotion': 7, 'metabolic process': 62, 'catalytic activity': 46, 'molecular function regulator': 11, 'biomineralization': 1, 'interspecies interaction between organisms': 2, 'growth': 4, 'translation regulator activity': 7, 'structural molecule activity': 3, 'protein folding chaperone': 1, 'molecular_function': 6, 'cellular_component': 3, 'biological_process': 4, 'behavior': 1}\n"
     ]
    }
   ],
   "source": [
    "df_GO=df5['GO_name']\n",
    "GO = dict()\n",
    "for i in df_GO :\n",
    "        for j in i :\n",
    "                if j in GO.keys():\n",
    "                    GO[j]+=1\n",
    "                else :\n",
    "                    GO[j]=1\n",
    "\n",
    "GO_thres={'other':0}\n",
    "threshold=1\n",
    "for key,value in GO.items():\n",
    "    if value<=threshold:\n",
    "        GO_thres['other']+=value\n",
    "    else:\n",
    "        GO_thres[key]=value\n",
    "#GO_thres['biological_process']=0\n",
    "\n",
    "GO_thres_df=pd.DataFrame(list(GO_thres.items()))\n",
    "GO_thres_df.columns=['GO','number']\n",
    "GO_thres_df=GO_thres_df[GO_thres_df['number']>0]\n",
    "GO_thres_df=GO_thres_df.sort_values(by=['number'], ascending=False)\n",
    "plt.figure(figsize=[40,10])\n",
    "plt.pie(GO_thres_df.number,labels=GO_thres_df.GO,startangle=45)\n",
    "plt.show()\n",
    "print(GO)"
   ]
  },
  {
   "cell_type": "markdown",
   "metadata": {
    "scrolled": true
   },
   "source": [
    "#parents=go['GO:0030865'].get_all_parents()\n",
    "#GO=list()\n",
    "#levelgo=list()\n",
    "#name=list()\n",
    "#for i in parents:\n",
    "        GO.append(i)\n",
    "        levelgo.append(go[i].level)\n",
    "        name.append(go[i].name)\n",
    "        \n",
    "parents_df=pd.DataFrame()\n",
    "parents_df['id']=GO\n",
    "parents_df['level']=levelgo\n",
    "parents_df['name']=name\n",
    "print(go['GO:0030865'].id+' '+go['GO:0030865'].name)\n",
    "print(parents_df)"
   ]
  },
  {
   "cell_type": "markdown",
   "metadata": {},
   "source": [
    "parents=go['GO:0030198'].get_all_parents()\n",
    "GO=list()\n",
    "levelgo=list()\n",
    "name=list()\n",
    "for i in parents:\n",
    "        GO.append(i)\n",
    "        levelgo.append(go[i].level)\n",
    "        name.append(go[i].name)\n",
    "        \n",
    "parents_df=pd.DataFrame()\n",
    "parents_df['id']=GO\n",
    "parents_df['level']=levelgo\n",
    "parents_df['name']=name\n",
    "print(go['GO:0030198'].id+' '+go['GO:0030198'].name)\n",
    "print(parents_df)"
   ]
  }
 ],
 "metadata": {
  "kernelspec": {
   "display_name": "Python 3",
   "language": "python",
   "name": "python3"
  },
  "language_info": {
   "codemirror_mode": {
    "name": "ipython",
    "version": 3
   },
   "file_extension": ".py",
   "mimetype": "text/x-python",
   "name": "python",
   "nbconvert_exporter": "python",
   "pygments_lexer": "ipython3",
   "version": "3.7.3"
  }
 },
 "nbformat": 4,
 "nbformat_minor": 2
}
